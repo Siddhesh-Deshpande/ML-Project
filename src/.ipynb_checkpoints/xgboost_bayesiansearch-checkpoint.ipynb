{
 "cells": [
  {
   "cell_type": "code",
   "execution_count": 1,
   "id": "88d7cc5e-8e97-4949-ab30-0658cb7cce09",
   "metadata": {},
   "outputs": [],
   "source": [
    "import pandas as pd\n",
    "import numpy as np\n",
    "from sklearn.ensemble import RandomForestClassifier,AdaBoostClassifier,VotingClassifier\n",
    "from sklearn.model_selection import GridSearchCV,RandomizedSearchCV\n",
    "from xgboost import XGBClassifier\n",
    "from scipy.stats import randint, uniform\n",
    "import warnings\n",
    "warnings.filterwarnings(\"ignore\")"
   ]
  },
  {
   "cell_type": "code",
   "execution_count": 2,
   "id": "a5402dfb-4247-498c-a4bb-8c9a4daf215f",
   "metadata": {},
   "outputs": [],
   "source": [
    "train_df = pd.read_csv('../train_test_files/processed_train.csv')"
   ]
  },
  {
   "cell_type": "code",
   "execution_count": 3,
   "id": "7fda96bb-9411-442b-968d-59ad301baa27",
   "metadata": {},
   "outputs": [],
   "source": [
    "test_df  = pd.read_csv('../train_test_files/processed_test.csv')"
   ]
  },
  {
   "cell_type": "code",
   "execution_count": 4,
   "id": "74248e91-5cfe-4abf-9383-754f59cd7fdc",
   "metadata": {},
   "outputs": [],
   "source": [
    "x=test_df['response_id']\n",
    "test_df.drop(['response_id'],axis=1,inplace=True)"
   ]
  },
  {
   "cell_type": "code",
   "execution_count": 5,
   "id": "634f3363-42d5-4931-948b-ac41d0e3b88b",
   "metadata": {},
   "outputs": [],
   "source": [
    "clf1 = RandomForestClassifier(random_state=42)\n",
    "clf2 = XGBClassifier(random_state=42)\n",
    "# clf3 = AdaBoostClassifier(random_state=42)"
   ]
  },
  {
   "cell_type": "code",
   "execution_count": 6,
   "id": "eb669f83-78f8-4445-879f-10863ca87f61",
   "metadata": {},
   "outputs": [],
   "source": [
    "voting_clf = VotingClassifier(\n",
    "    estimators=[('rf', clf1), ('xgb', clf2)],\n",
    "    voting='hard'  # 'soft' uses probabilities to vote; 'hard' uses predicted class labels\n",
    ")"
   ]
  },
  {
   "cell_type": "code",
   "execution_count": 7,
   "id": "ac401811-4ffc-46f4-8d85-05f05f60f7fd",
   "metadata": {},
   "outputs": [],
   "source": [
    "param_grid = {\n",
    "    # RandomForest parameters\n",
    "    'rf__n_estimators': randint(100, 500),                # Number of trees in the forest\n",
    "    'rf__max_depth': [None, 10, 20, 30],                  # Maximum depth of the tree\n",
    "    'rf__min_samples_split': randint(2, 11),              # Minimum samples required to split a node\n",
    "    'rf__min_samples_leaf': randint(1, 5),                # Minimum samples required at each leaf node\n",
    "    'rf__max_features': ['sqrt', 'log2', None],           # Number of features to consider at each split\n",
    "\n",
    "    # XGBClassifier parameters\n",
    "    'xgb__n_estimators': randint(100, 500),               # Number of boosting rounds\n",
    "    'xgb__learning_rate': uniform(0.01, 0.2),             # Learning rate\n",
    "    'xgb__max_depth': randint(3, 10),                     # Maximum depth of a tree\n",
    "    'xgb__subsample': uniform(0.6, 0.4),                  # Subsample ratio\n",
    "    'xgb__colsample_bytree': uniform(0.6, 0.4),           # Column subsample ratio\n",
    "    'xgb__gamma': uniform(0, 0.3),                        # Minimum loss reduction for a split\n",
    "\n",
    "}"
   ]
  },
  {
   "cell_type": "code",
   "execution_count": 8,
   "id": "444cfac4-731c-4680-8234-8a75e2f6e97a",
   "metadata": {},
   "outputs": [],
   "source": [
    "random_search = RandomizedSearchCV(\n",
    "    estimator=voting_clf,\n",
    "    param_distributions=param_grid,\n",
    "    n_iter=100,               # Number of random combinations to try\n",
    "    cv=5,                    # 5-fold cross-validation\n",
    "    scoring='f1',\n",
    "    n_jobs=-1,               # Use all available cores\n",
    "    random_state=42\n",
    ")"
   ]
  },
  {
   "cell_type": "code",
   "execution_count": 9,
   "id": "261ef8b1-f3b7-48ed-91d6-6da8e07e9a58",
   "metadata": {},
   "outputs": [
    {
     "name": "stdout",
     "output_type": "stream",
     "text": [
      "{'rf__max_depth': 20, 'rf__max_features': 'sqrt', 'rf__min_samples_leaf': 3, 'rf__min_samples_split': 9, 'rf__n_estimators': 288, 'xgb__colsample_bytree': np.float64(0.8387400631785948), 'xgb__gamma': np.float64(0.13374982585607734), 'xgb__learning_rate': np.float64(0.02999498316360058), 'xgb__max_depth': 5, 'xgb__n_estimators': 187, 'xgb__subsample': np.float64(0.7334834444556088)}\n"
     ]
    }
   ],
   "source": [
    "random_search.fit(train_df.drop(['exit_status'],axis=1), train_df['exit_status'])\n",
    "print(random_search.best_params_)"
   ]
  },
  {
   "cell_type": "code",
   "execution_count": 10,
   "id": "fd6d6200-b0d6-4de4-b7a0-020661aa9e62",
   "metadata": {},
   "outputs": [],
   "source": [
    "final = random_search.predict(test_df)"
   ]
  },
  {
   "cell_type": "code",
   "execution_count": 11,
   "id": "27927651-749c-4099-9fcb-d5b38627586b",
   "metadata": {},
   "outputs": [],
   "source": [
    "predictions = [\"Stayed\" if pred == 1 else \"Left\" for pred in final]"
   ]
  },
  {
   "cell_type": "code",
   "execution_count": 12,
   "id": "37764c3a-24ae-4947-bf9b-10961c5a03be",
   "metadata": {},
   "outputs": [],
   "source": [
    "output_df = pd.DataFrame({\n",
    "    'response_id': x,\n",
    "    'Predictions': predictions\n",
    "})"
   ]
  },
  {
   "cell_type": "code",
   "execution_count": 13,
   "id": "ff453abc-e145-4fec-8d06-9afd2cfc25c5",
   "metadata": {},
   "outputs": [],
   "source": [
    "output_df.to_csv('../output/xgboost_random.csv', index=False)"
   ]
  },
  {
   "cell_type": "code",
   "execution_count": null,
   "id": "973a73d6-5916-459f-b4dd-66c7c99b19bf",
   "metadata": {},
   "outputs": [],
   "source": []
  }
 ],
 "metadata": {
  "kernelspec": {
   "display_name": "Python 3 (ipykernel)",
   "language": "python",
   "name": "python3"
  },
  "language_info": {
   "codemirror_mode": {
    "name": "ipython",
    "version": 3
   },
   "file_extension": ".py",
   "mimetype": "text/x-python",
   "name": "python",
   "nbconvert_exporter": "python",
   "pygments_lexer": "ipython3",
   "version": "3.10.12"
  }
 },
 "nbformat": 4,
 "nbformat_minor": 5
}
