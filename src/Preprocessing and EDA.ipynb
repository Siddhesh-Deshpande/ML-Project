{
 "cells": [
  {
   "cell_type": "code",
   "execution_count": 1,
   "id": "ad6867b6-5696-4ead-98b6-1e5ec2b9ce9e",
   "metadata": {},
   "outputs": [],
   "source": [
    "import pandas as pd\n",
    "import numpy as np\n",
    "import seaborn as sns"
   ]
  },
  {
   "cell_type": "code",
   "execution_count": 2,
   "id": "adb7eba5-4b28-4be9-9577-e7f4c3ac90f5",
   "metadata": {},
   "outputs": [],
   "source": [
    "train_df = pd.read_csv('../train_test_files/train.csv')"
   ]
  },
  {
   "cell_type": "code",
   "execution_count": 3,
   "id": "d17e57f8-1bf1-4bee-a63f-0bb48e9f23a2",
   "metadata": {},
   "outputs": [
    {
     "data": {
      "text/html": [
       "<div>\n",
       "<style scoped>\n",
       "    .dataframe tbody tr th:only-of-type {\n",
       "        vertical-align: middle;\n",
       "    }\n",
       "\n",
       "    .dataframe tbody tr th {\n",
       "        vertical-align: top;\n",
       "    }\n",
       "\n",
       "    .dataframe thead th {\n",
       "        text-align: right;\n",
       "    }\n",
       "</style>\n",
       "<table border=\"1\" class=\"dataframe\">\n",
       "  <thead>\n",
       "    <tr style=\"text-align: right;\">\n",
       "      <th></th>\n",
       "      <th>response_id</th>\n",
       "      <th>age</th>\n",
       "      <th>gender</th>\n",
       "      <th>years_at_company</th>\n",
       "      <th>job_role</th>\n",
       "      <th>monthly_income</th>\n",
       "      <th>work_life_balance</th>\n",
       "      <th>job_satisfaction</th>\n",
       "      <th>performance_rating</th>\n",
       "      <th>promotions_count</th>\n",
       "      <th>...</th>\n",
       "      <th>dependents_count</th>\n",
       "      <th>job_level</th>\n",
       "      <th>company_size</th>\n",
       "      <th>company_tenure</th>\n",
       "      <th>remote_work</th>\n",
       "      <th>leadership_opportunities</th>\n",
       "      <th>innovation_opportunities</th>\n",
       "      <th>company_reputation</th>\n",
       "      <th>employee_recognition</th>\n",
       "      <th>exit_status</th>\n",
       "    </tr>\n",
       "  </thead>\n",
       "  <tbody>\n",
       "    <tr>\n",
       "      <th>0</th>\n",
       "      <td>8410</td>\n",
       "      <td>31</td>\n",
       "      <td>Male</td>\n",
       "      <td>19</td>\n",
       "      <td>Education</td>\n",
       "      <td>5390.0</td>\n",
       "      <td>Excellent</td>\n",
       "      <td>Medium</td>\n",
       "      <td>Average</td>\n",
       "      <td>2</td>\n",
       "      <td>...</td>\n",
       "      <td>0.0</td>\n",
       "      <td>Mid</td>\n",
       "      <td>Medium</td>\n",
       "      <td>89.0</td>\n",
       "      <td>No</td>\n",
       "      <td>No</td>\n",
       "      <td>No</td>\n",
       "      <td>Excellent</td>\n",
       "      <td>Medium</td>\n",
       "      <td>Stayed</td>\n",
       "    </tr>\n",
       "    <tr>\n",
       "      <th>1</th>\n",
       "      <td>64756</td>\n",
       "      <td>59</td>\n",
       "      <td>Female</td>\n",
       "      <td>4</td>\n",
       "      <td>Media</td>\n",
       "      <td>5534.0</td>\n",
       "      <td>Poor</td>\n",
       "      <td>High</td>\n",
       "      <td>Low</td>\n",
       "      <td>3</td>\n",
       "      <td>...</td>\n",
       "      <td>3.0</td>\n",
       "      <td>Mid</td>\n",
       "      <td>Medium</td>\n",
       "      <td>21.0</td>\n",
       "      <td>No</td>\n",
       "      <td>No</td>\n",
       "      <td>No</td>\n",
       "      <td>Fair</td>\n",
       "      <td>Low</td>\n",
       "      <td>Stayed</td>\n",
       "    </tr>\n",
       "    <tr>\n",
       "      <th>2</th>\n",
       "      <td>30257</td>\n",
       "      <td>24</td>\n",
       "      <td>Female</td>\n",
       "      <td>10</td>\n",
       "      <td>Healthcare</td>\n",
       "      <td>8159.0</td>\n",
       "      <td>Good</td>\n",
       "      <td>High</td>\n",
       "      <td>Low</td>\n",
       "      <td>0</td>\n",
       "      <td>...</td>\n",
       "      <td>3.0</td>\n",
       "      <td>Mid</td>\n",
       "      <td>Medium</td>\n",
       "      <td>74.0</td>\n",
       "      <td>No</td>\n",
       "      <td>No</td>\n",
       "      <td>No</td>\n",
       "      <td>Poor</td>\n",
       "      <td>Low</td>\n",
       "      <td>Stayed</td>\n",
       "    </tr>\n",
       "    <tr>\n",
       "      <th>3</th>\n",
       "      <td>65791</td>\n",
       "      <td>36</td>\n",
       "      <td>Female</td>\n",
       "      <td>7</td>\n",
       "      <td>Education</td>\n",
       "      <td>3989.0</td>\n",
       "      <td>Good</td>\n",
       "      <td>High</td>\n",
       "      <td>High</td>\n",
       "      <td>1</td>\n",
       "      <td>...</td>\n",
       "      <td>2.0</td>\n",
       "      <td>Mid</td>\n",
       "      <td>Small</td>\n",
       "      <td>50.0</td>\n",
       "      <td>Yes</td>\n",
       "      <td>No</td>\n",
       "      <td>No</td>\n",
       "      <td>Good</td>\n",
       "      <td>Medium</td>\n",
       "      <td>Stayed</td>\n",
       "    </tr>\n",
       "    <tr>\n",
       "      <th>4</th>\n",
       "      <td>65026</td>\n",
       "      <td>56</td>\n",
       "      <td>Male</td>\n",
       "      <td>41</td>\n",
       "      <td>Education</td>\n",
       "      <td>4821.0</td>\n",
       "      <td>NaN</td>\n",
       "      <td>NaN</td>\n",
       "      <td>Average</td>\n",
       "      <td>0</td>\n",
       "      <td>...</td>\n",
       "      <td>0.0</td>\n",
       "      <td>Senior</td>\n",
       "      <td>Medium</td>\n",
       "      <td>68.0</td>\n",
       "      <td>No</td>\n",
       "      <td>No</td>\n",
       "      <td>No</td>\n",
       "      <td>Fair</td>\n",
       "      <td>Medium</td>\n",
       "      <td>Stayed</td>\n",
       "    </tr>\n",
       "  </tbody>\n",
       "</table>\n",
       "<p>5 rows × 24 columns</p>\n",
       "</div>"
      ],
      "text/plain": [
       "   response_id  age  gender  years_at_company    job_role  monthly_income  \\\n",
       "0         8410   31    Male                19   Education          5390.0   \n",
       "1        64756   59  Female                 4       Media          5534.0   \n",
       "2        30257   24  Female                10  Healthcare          8159.0   \n",
       "3        65791   36  Female                 7   Education          3989.0   \n",
       "4        65026   56    Male                41   Education          4821.0   \n",
       "\n",
       "  work_life_balance job_satisfaction performance_rating  promotions_count  \\\n",
       "0         Excellent           Medium            Average                 2   \n",
       "1              Poor             High                Low                 3   \n",
       "2              Good             High                Low                 0   \n",
       "3              Good             High               High                 1   \n",
       "4               NaN              NaN            Average                 0   \n",
       "\n",
       "   ... dependents_count  job_level company_size company_tenure  remote_work  \\\n",
       "0  ...              0.0        Mid       Medium           89.0           No   \n",
       "1  ...              3.0        Mid       Medium           21.0           No   \n",
       "2  ...              3.0        Mid       Medium           74.0           No   \n",
       "3  ...              2.0        Mid        Small           50.0          Yes   \n",
       "4  ...              0.0     Senior       Medium           68.0           No   \n",
       "\n",
       "  leadership_opportunities innovation_opportunities  company_reputation  \\\n",
       "0                       No                       No           Excellent   \n",
       "1                       No                       No                Fair   \n",
       "2                       No                       No                Poor   \n",
       "3                       No                       No                Good   \n",
       "4                       No                       No                Fair   \n",
       "\n",
       "  employee_recognition exit_status  \n",
       "0               Medium      Stayed  \n",
       "1                  Low      Stayed  \n",
       "2                  Low      Stayed  \n",
       "3               Medium      Stayed  \n",
       "4               Medium      Stayed  \n",
       "\n",
       "[5 rows x 24 columns]"
      ]
     },
     "execution_count": 3,
     "metadata": {},
     "output_type": "execute_result"
    }
   ],
   "source": [
    "train_df.head()"
   ]
  },
  {
   "cell_type": "code",
   "execution_count": 4,
   "id": "7557ad7f-743a-4b35-99a0-ce8760a04f60",
   "metadata": {},
   "outputs": [
    {
     "data": {
      "text/plain": [
       "(59611, 24)"
      ]
     },
     "execution_count": 4,
     "metadata": {},
     "output_type": "execute_result"
    }
   ],
   "source": [
    "train_df.shape"
   ]
  },
  {
   "cell_type": "code",
   "execution_count": 5,
   "id": "69573f8b-1c23-47d9-8949-4e44f71dd9d4",
   "metadata": {},
   "outputs": [],
   "source": [
    "train_df.drop_duplicates(inplace=True)"
   ]
  },
  {
   "cell_type": "code",
   "execution_count": 6,
   "id": "ffad1ba5-8191-426e-8c74-2265bcd9dbd0",
   "metadata": {},
   "outputs": [
    {
     "data": {
      "text/plain": [
       "(59598, 24)"
      ]
     },
     "execution_count": 6,
     "metadata": {},
     "output_type": "execute_result"
    }
   ],
   "source": [
    "train_df.shape"
   ]
  },
  {
   "cell_type": "code",
   "execution_count": 7,
   "id": "3bd7be90-4046-472f-8e01-044d6c8ef49d",
   "metadata": {},
   "outputs": [
    {
     "data": {
      "text/plain": [
       "response_id                  0.000000\n",
       "age                          0.000000\n",
       "gender                       0.000000\n",
       "years_at_company             0.000000\n",
       "job_role                     0.000000\n",
       "monthly_income               2.998423\n",
       "work_life_balance           16.998893\n",
       "job_satisfaction            11.998725\n",
       "performance_rating           0.000000\n",
       "promotions_count             0.000000\n",
       "overtime                     0.000000\n",
       "distance_from_home           0.000000\n",
       "education_level              0.000000\n",
       "marital_status               0.000000\n",
       "dependents_count             7.998591\n",
       "job_level                    0.000000\n",
       "company_size                 4.998490\n",
       "company_tenure               6.998557\n",
       "remote_work                  0.000000\n",
       "leadership_opportunities     0.000000\n",
       "innovation_opportunities     0.000000\n",
       "company_reputation           0.000000\n",
       "employee_recognition         0.000000\n",
       "exit_status                  0.000000\n",
       "dtype: float64"
      ]
     },
     "execution_count": 7,
     "metadata": {},
     "output_type": "execute_result"
    }
   ],
   "source": [
    "null_value_percentages=(train_df.isna().sum()/train_df.shape[0])*100\n",
    "null_value_percentages"
   ]
  },
  {
   "cell_type": "code",
   "execution_count": 8,
   "id": "096eac55-a5b5-4e7b-af6c-db76273e6696",
   "metadata": {},
   "outputs": [
    {
     "name": "stdout",
     "output_type": "stream",
     "text": [
      "monthly_income        2.998423\n",
      "work_life_balance    16.998893\n",
      "job_satisfaction     11.998725\n",
      "dependents_count      7.998591\n",
      "company_size          4.998490\n",
      "company_tenure        6.998557\n",
      "dtype: float64\n"
     ]
    }
   ],
   "source": [
    "columns_with_null_values = null_value_percentages[null_value_percentages>0]\n",
    "print(columns_with_null_values)"
   ]
  },
  {
   "cell_type": "code",
   "execution_count": 9,
   "id": "a9e805c5-e7f9-4a97-b64b-d1b1a2bb37c9",
   "metadata": {},
   "outputs": [
    {
     "name": "stdout",
     "output_type": "stream",
     "text": [
      "response_id int64\n",
      "age int64\n",
      "gender object\n",
      "years_at_company int64\n",
      "job_role object\n",
      "monthly_income float64\n",
      "work_life_balance object\n",
      "job_satisfaction object\n",
      "performance_rating object\n",
      "promotions_count int64\n",
      "overtime object\n",
      "distance_from_home int64\n",
      "education_level object\n",
      "marital_status object\n",
      "dependents_count float64\n",
      "job_level object\n",
      "company_size object\n",
      "company_tenure float64\n",
      "remote_work object\n",
      "leadership_opportunities object\n",
      "innovation_opportunities object\n",
      "company_reputation object\n",
      "employee_recognition object\n",
      "exit_status object\n"
     ]
    }
   ],
   "source": [
    "for columns in train_df.columns:\n",
    "    print(columns , train_df[columns].dtype)"
   ]
  },
  {
   "cell_type": "code",
   "execution_count": 10,
   "id": "e0ae2658-0109-4af6-a4cd-ee33c878510e",
   "metadata": {},
   "outputs": [],
   "source": [
    "from sklearn.preprocessing import LabelEncoder\n",
    "label_encoder = LabelEncoder()"
   ]
  },
  {
   "cell_type": "code",
   "execution_count": 11,
   "id": "1d142b88-cdf3-417f-890f-9ee82583a8e8",
   "metadata": {},
   "outputs": [],
   "source": [
    "train_df['exit_status'] = label_encoder.fit_transform(train_df['exit_status'])"
   ]
  },
  {
   "cell_type": "code",
   "execution_count": 12,
   "id": "cf2be034-5823-4332-8af0-abd6158ec7c6",
   "metadata": {},
   "outputs": [
    {
     "name": "stdout",
     "output_type": "stream",
     "text": [
      "monthly_income 0.011012139419045604\n",
      "dependents_count 0.07764193757796053\n",
      "company_tenure 0.030896520388690493\n"
     ]
    }
   ],
   "source": [
    "for i in columns_with_null_values.index:\n",
    "    if train_df[i].dtype != object:\n",
    "        print(i,train_df[i].corr(train_df['exit_status']))"
   ]
  },
  {
   "cell_type": "code",
   "execution_count": 13,
   "id": "cfebbee8-fac7-4a4a-97e1-99f24a14b3d6",
   "metadata": {},
   "outputs": [],
   "source": [
    "train_df['dependents_count'].fillna(train_df['dependents_count'].mode()[0],inplace=True)"
   ]
  },
  {
   "cell_type": "code",
   "execution_count": 14,
   "id": "15c9628a-af5c-4bc1-aa76-0ed7f3cdb7fd",
   "metadata": {},
   "outputs": [],
   "source": [
    "train_df['company_tenure'].fillna(train_df['company_tenure'].mean(),inplace=True)"
   ]
  },
  {
   "cell_type": "code",
   "execution_count": 15,
   "id": "7900618d-7892-4f27-9e6f-bf691b4b2ff6",
   "metadata": {},
   "outputs": [
    {
     "data": {
      "text/plain": [
       "company_size      4.998490\n",
       "monthly_income    2.998423\n",
       "dtype: float64"
      ]
     },
     "execution_count": 15,
     "metadata": {},
     "output_type": "execute_result"
    }
   ],
   "source": [
    "rows_to_drop=null_value_percentages[(null_value_percentages<5) & (null_value_percentages>0)].sort_values(ascending=False)\n",
    "rows_to_drop"
   ]
  },
  {
   "cell_type": "code",
   "execution_count": 16,
   "id": "6e0c0e5c-17fd-472d-99ef-9baab10ff70e",
   "metadata": {},
   "outputs": [
    {
     "data": {
      "text/plain": [
       "Index(['company_size', 'monthly_income'], dtype='object')"
      ]
     },
     "execution_count": 16,
     "metadata": {},
     "output_type": "execute_result"
    }
   ],
   "source": [
    "rows_to_drop=rows_to_drop.keys()\n",
    "rows_to_drop"
   ]
  },
  {
   "cell_type": "code",
   "execution_count": 17,
   "id": "302d53de-c863-46ca-9806-6a7efb4bd16c",
   "metadata": {},
   "outputs": [],
   "source": [
    "for row in rows_to_drop:\n",
    "\ttrain_df.drop(labels=train_df.index[train_df[row].isna()],inplace=True)"
   ]
  },
  {
   "cell_type": "code",
   "execution_count": 18,
   "id": "de9f592e-9491-4830-80e8-ba0141eec989",
   "metadata": {},
   "outputs": [
    {
     "data": {
      "text/plain": [
       "(56619, 24)"
      ]
     },
     "execution_count": 18,
     "metadata": {},
     "output_type": "execute_result"
    }
   ],
   "source": [
    "train_df.shape"
   ]
  },
  {
   "cell_type": "code",
   "execution_count": 19,
   "id": "a521f1cb-cac5-47b6-80c8-35216905b347",
   "metadata": {},
   "outputs": [],
   "source": [
    "def encode_categorical_column(df, column):\n",
    "    \"\"\"\n",
    "    Encodes a categorical column in the given DataFrame using LabelEncoder,\n",
    "    while preserving NaN values and keeping the original column name unchanged.\n",
    "    \n",
    "    Parameters:\n",
    "    df (pd.DataFrame): The DataFrame containing the column to encode.\n",
    "    column (str): The name of the column to encode.\n",
    "\n",
    "    Returns:\n",
    "    pd.DataFrame: The DataFrame with the encoded column.\n",
    "    \"\"\"\n",
    "    # Initialize LabelEncoder\n",
    "    encoder = LabelEncoder()\n",
    "\n",
    "    # Fit the encoder on the non-null values only\n",
    "    encoder.fit(df[column].dropna())\n",
    "\n",
    "    # Create an array to hold the encoded values\n",
    "    encoded_values = np.full(df[column].shape, np.nan)  # Create an array filled with NaN\n",
    "\n",
    "    # Transform non-null values only\n",
    "    mask = df[column].notna()  # Boolean mask for non-null values\n",
    "    encoded_values[mask] = encoder.transform(df[column][mask])  # Encode non-null values\n",
    "\n",
    "    # Update the original column with the encoded values\n",
    "    df[column] = encoded_values\n",
    "\n",
    "    return df"
   ]
  },
  {
   "cell_type": "code",
   "execution_count": 20,
   "id": "7b0ebdc3-e344-4b08-aeeb-57424a353888",
   "metadata": {},
   "outputs": [],
   "source": [
    "train_df = encode_categorical_column(train_df,'work_life_balance')\n",
    "train_df = encode_categorical_column(train_df,'job_satisfaction')"
   ]
  },
  {
   "cell_type": "code",
   "execution_count": 21,
   "id": "65198279-ed28-4eb1-8833-cba2cdaacdee",
   "metadata": {},
   "outputs": [],
   "source": [
    "from sklearn.impute import KNNImputer\n"
   ]
  },
  {
   "cell_type": "code",
   "execution_count": 22,
   "id": "865a23d0-2132-4c25-a450-437edf42a5e2",
   "metadata": {},
   "outputs": [],
   "source": [
    "imputer = KNNImputer(n_neighbors=5)"
   ]
  },
  {
   "cell_type": "code",
   "execution_count": 23,
   "id": "465c21ca-4105-4f27-a1af-65090bf451d8",
   "metadata": {},
   "outputs": [],
   "source": [
    "train_df[['work_life_balance','job_satisfaction']]=imputer.fit_transform(train_df[['work_life_balance','job_satisfaction']])"
   ]
  },
  {
   "cell_type": "code",
   "execution_count": 24,
   "id": "afa9980d-8eae-4ac7-b218-1939d8eaea7c",
   "metadata": {},
   "outputs": [],
   "source": [
    "for columns in train_df.columns :\n",
    "    if train_df[columns].dtype==object:\n",
    "        train_df[columns] = label_encoder.fit_transform(train_df[columns])"
   ]
  },
  {
   "cell_type": "code",
   "execution_count": 25,
   "id": "d84e85d3-1a42-43a5-882e-dceed97be3dc",
   "metadata": {},
   "outputs": [
    {
     "data": {
      "text/html": [
       "<div>\n",
       "<style scoped>\n",
       "    .dataframe tbody tr th:only-of-type {\n",
       "        vertical-align: middle;\n",
       "    }\n",
       "\n",
       "    .dataframe tbody tr th {\n",
       "        vertical-align: top;\n",
       "    }\n",
       "\n",
       "    .dataframe thead th {\n",
       "        text-align: right;\n",
       "    }\n",
       "</style>\n",
       "<table border=\"1\" class=\"dataframe\">\n",
       "  <thead>\n",
       "    <tr style=\"text-align: right;\">\n",
       "      <th></th>\n",
       "      <th>response_id</th>\n",
       "      <th>age</th>\n",
       "      <th>gender</th>\n",
       "      <th>years_at_company</th>\n",
       "      <th>job_role</th>\n",
       "      <th>monthly_income</th>\n",
       "      <th>work_life_balance</th>\n",
       "      <th>job_satisfaction</th>\n",
       "      <th>performance_rating</th>\n",
       "      <th>promotions_count</th>\n",
       "      <th>...</th>\n",
       "      <th>dependents_count</th>\n",
       "      <th>job_level</th>\n",
       "      <th>company_size</th>\n",
       "      <th>company_tenure</th>\n",
       "      <th>remote_work</th>\n",
       "      <th>leadership_opportunities</th>\n",
       "      <th>innovation_opportunities</th>\n",
       "      <th>company_reputation</th>\n",
       "      <th>employee_recognition</th>\n",
       "      <th>exit_status</th>\n",
       "    </tr>\n",
       "  </thead>\n",
       "  <tbody>\n",
       "    <tr>\n",
       "      <th>0</th>\n",
       "      <td>8410</td>\n",
       "      <td>31</td>\n",
       "      <td>1</td>\n",
       "      <td>19</td>\n",
       "      <td>0</td>\n",
       "      <td>5390.0</td>\n",
       "      <td>0.000000</td>\n",
       "      <td>2.000000</td>\n",
       "      <td>0</td>\n",
       "      <td>2</td>\n",
       "      <td>...</td>\n",
       "      <td>0.0</td>\n",
       "      <td>1</td>\n",
       "      <td>1</td>\n",
       "      <td>89.0</td>\n",
       "      <td>0</td>\n",
       "      <td>0</td>\n",
       "      <td>0</td>\n",
       "      <td>0</td>\n",
       "      <td>2</td>\n",
       "      <td>1</td>\n",
       "    </tr>\n",
       "    <tr>\n",
       "      <th>1</th>\n",
       "      <td>64756</td>\n",
       "      <td>59</td>\n",
       "      <td>0</td>\n",
       "      <td>4</td>\n",
       "      <td>3</td>\n",
       "      <td>5534.0</td>\n",
       "      <td>3.000000</td>\n",
       "      <td>0.000000</td>\n",
       "      <td>3</td>\n",
       "      <td>3</td>\n",
       "      <td>...</td>\n",
       "      <td>3.0</td>\n",
       "      <td>1</td>\n",
       "      <td>1</td>\n",
       "      <td>21.0</td>\n",
       "      <td>0</td>\n",
       "      <td>0</td>\n",
       "      <td>0</td>\n",
       "      <td>1</td>\n",
       "      <td>1</td>\n",
       "      <td>1</td>\n",
       "    </tr>\n",
       "    <tr>\n",
       "      <th>2</th>\n",
       "      <td>30257</td>\n",
       "      <td>24</td>\n",
       "      <td>0</td>\n",
       "      <td>10</td>\n",
       "      <td>2</td>\n",
       "      <td>8159.0</td>\n",
       "      <td>2.000000</td>\n",
       "      <td>0.000000</td>\n",
       "      <td>3</td>\n",
       "      <td>0</td>\n",
       "      <td>...</td>\n",
       "      <td>3.0</td>\n",
       "      <td>1</td>\n",
       "      <td>1</td>\n",
       "      <td>74.0</td>\n",
       "      <td>0</td>\n",
       "      <td>0</td>\n",
       "      <td>0</td>\n",
       "      <td>3</td>\n",
       "      <td>1</td>\n",
       "      <td>1</td>\n",
       "    </tr>\n",
       "    <tr>\n",
       "      <th>3</th>\n",
       "      <td>65791</td>\n",
       "      <td>36</td>\n",
       "      <td>0</td>\n",
       "      <td>7</td>\n",
       "      <td>0</td>\n",
       "      <td>3989.0</td>\n",
       "      <td>2.000000</td>\n",
       "      <td>0.000000</td>\n",
       "      <td>2</td>\n",
       "      <td>1</td>\n",
       "      <td>...</td>\n",
       "      <td>2.0</td>\n",
       "      <td>1</td>\n",
       "      <td>2</td>\n",
       "      <td>50.0</td>\n",
       "      <td>1</td>\n",
       "      <td>0</td>\n",
       "      <td>0</td>\n",
       "      <td>2</td>\n",
       "      <td>2</td>\n",
       "      <td>1</td>\n",
       "    </tr>\n",
       "    <tr>\n",
       "      <th>4</th>\n",
       "      <td>65026</td>\n",
       "      <td>56</td>\n",
       "      <td>1</td>\n",
       "      <td>41</td>\n",
       "      <td>0</td>\n",
       "      <td>4821.0</td>\n",
       "      <td>1.478743</td>\n",
       "      <td>1.102561</td>\n",
       "      <td>0</td>\n",
       "      <td>0</td>\n",
       "      <td>...</td>\n",
       "      <td>0.0</td>\n",
       "      <td>2</td>\n",
       "      <td>1</td>\n",
       "      <td>68.0</td>\n",
       "      <td>0</td>\n",
       "      <td>0</td>\n",
       "      <td>0</td>\n",
       "      <td>1</td>\n",
       "      <td>2</td>\n",
       "      <td>1</td>\n",
       "    </tr>\n",
       "  </tbody>\n",
       "</table>\n",
       "<p>5 rows × 24 columns</p>\n",
       "</div>"
      ],
      "text/plain": [
       "   response_id  age  gender  years_at_company  job_role  monthly_income  \\\n",
       "0         8410   31       1                19         0          5390.0   \n",
       "1        64756   59       0                 4         3          5534.0   \n",
       "2        30257   24       0                10         2          8159.0   \n",
       "3        65791   36       0                 7         0          3989.0   \n",
       "4        65026   56       1                41         0          4821.0   \n",
       "\n",
       "   work_life_balance  job_satisfaction  performance_rating  promotions_count  \\\n",
       "0           0.000000          2.000000                   0                 2   \n",
       "1           3.000000          0.000000                   3                 3   \n",
       "2           2.000000          0.000000                   3                 0   \n",
       "3           2.000000          0.000000                   2                 1   \n",
       "4           1.478743          1.102561                   0                 0   \n",
       "\n",
       "   ...  dependents_count  job_level  company_size  company_tenure  \\\n",
       "0  ...               0.0          1             1            89.0   \n",
       "1  ...               3.0          1             1            21.0   \n",
       "2  ...               3.0          1             1            74.0   \n",
       "3  ...               2.0          1             2            50.0   \n",
       "4  ...               0.0          2             1            68.0   \n",
       "\n",
       "   remote_work  leadership_opportunities  innovation_opportunities  \\\n",
       "0            0                         0                         0   \n",
       "1            0                         0                         0   \n",
       "2            0                         0                         0   \n",
       "3            1                         0                         0   \n",
       "4            0                         0                         0   \n",
       "\n",
       "   company_reputation  employee_recognition  exit_status  \n",
       "0                   0                     2            1  \n",
       "1                   1                     1            1  \n",
       "2                   3                     1            1  \n",
       "3                   2                     2            1  \n",
       "4                   1                     2            1  \n",
       "\n",
       "[5 rows x 24 columns]"
      ]
     },
     "execution_count": 25,
     "metadata": {},
     "output_type": "execute_result"
    }
   ],
   "source": [
    "train_df.head()"
   ]
  },
  {
   "cell_type": "code",
   "execution_count": 26,
   "id": "033b3754-aaf5-4999-bad5-08ae3b108c66",
   "metadata": {},
   "outputs": [
    {
     "name": "stdout",
     "output_type": "stream",
     "text": [
      "response_id -0.002183471645753873\n",
      "age 0.048602294395804616\n",
      "gender 0.1019788052093233\n",
      "years_at_company 0.06411002325487215\n",
      "job_role 0.007676660258304976\n",
      "monthly_income 0.011216900128775393\n",
      "work_life_balance -0.05719257886918651\n",
      "job_satisfaction -0.04433339915174787\n",
      "performance_rating -0.03236514930345137\n",
      "promotions_count 0.08192952657415685\n",
      "overtime -0.05832677444770884\n",
      "distance_from_home -0.09420386617005841\n",
      "education_level 0.050213533220125284\n",
      "marital_status -0.2296170398684206\n",
      "dependents_count 0.07381869541123076\n",
      "job_level 0.3148909351567855\n",
      "company_size -0.028216753870159202\n",
      "company_tenure 0.030570706976841774\n",
      "remote_work 0.21907188098342736\n",
      "leadership_opportunities 0.009105769709558646\n",
      "innovation_opportunities 0.021670400437270084\n",
      "company_reputation -0.04040736868648639\n",
      "employee_recognition 0.00010728095162131245\n",
      "exit_status 1.0\n"
     ]
    }
   ],
   "source": [
    "for columns in train_df.columns:\n",
    "    print(columns,train_df[columns].corr(train_df['exit_status']))"
   ]
  },
  {
   "cell_type": "code",
   "execution_count": 27,
   "id": "88959d17-cfb7-461f-a63d-5bd87be0a58a",
   "metadata": {},
   "outputs": [],
   "source": [
    "train_df.drop(['leadership_opportunities','employee_recognition','job_role','response_id'],axis=1,inplace=True)"
   ]
  },
  {
   "cell_type": "code",
   "execution_count": 28,
   "id": "240c272e-1ce0-48a2-b037-cde4850797a5",
   "metadata": {},
   "outputs": [
    {
     "data": {
      "text/plain": [
       "(56619, 20)"
      ]
     },
     "execution_count": 28,
     "metadata": {},
     "output_type": "execute_result"
    }
   ],
   "source": [
    "train_df.shape"
   ]
  },
  {
   "cell_type": "code",
   "execution_count": 29,
   "id": "2f085a79-900c-442e-8078-cb54a0c4875f",
   "metadata": {},
   "outputs": [
    {
     "data": {
      "text/plain": [
       "0"
      ]
     },
     "execution_count": 29,
     "metadata": {},
     "output_type": "execute_result"
    }
   ],
   "source": [
    "train_df['dependents_count'].isna().sum()"
   ]
  },
  {
   "cell_type": "code",
   "execution_count": 30,
   "id": "77b0fefe-407b-4a6b-ad9d-c955405edc90",
   "metadata": {},
   "outputs": [],
   "source": [
    "test_df = pd.read_csv('../train_test_files/test.csv')"
   ]
  },
  {
   "cell_type": "code",
   "execution_count": 31,
   "id": "174dcf0a-b223-489b-9679-34d8c1002c35",
   "metadata": {},
   "outputs": [
    {
     "data": {
      "text/html": [
       "<div>\n",
       "<style scoped>\n",
       "    .dataframe tbody tr th:only-of-type {\n",
       "        vertical-align: middle;\n",
       "    }\n",
       "\n",
       "    .dataframe tbody tr th {\n",
       "        vertical-align: top;\n",
       "    }\n",
       "\n",
       "    .dataframe thead th {\n",
       "        text-align: right;\n",
       "    }\n",
       "</style>\n",
       "<table border=\"1\" class=\"dataframe\">\n",
       "  <thead>\n",
       "    <tr style=\"text-align: right;\">\n",
       "      <th></th>\n",
       "      <th>response_id</th>\n",
       "      <th>age</th>\n",
       "      <th>gender</th>\n",
       "      <th>years_at_company</th>\n",
       "      <th>job_role</th>\n",
       "      <th>monthly_income</th>\n",
       "      <th>work_life_balance</th>\n",
       "      <th>job_satisfaction</th>\n",
       "      <th>performance_rating</th>\n",
       "      <th>promotions_count</th>\n",
       "      <th>...</th>\n",
       "      <th>marital_status</th>\n",
       "      <th>dependents_count</th>\n",
       "      <th>job_level</th>\n",
       "      <th>company_size</th>\n",
       "      <th>company_tenure</th>\n",
       "      <th>remote_work</th>\n",
       "      <th>leadership_opportunities</th>\n",
       "      <th>innovation_opportunities</th>\n",
       "      <th>company_reputation</th>\n",
       "      <th>employee_recognition</th>\n",
       "    </tr>\n",
       "  </thead>\n",
       "  <tbody>\n",
       "    <tr>\n",
       "      <th>0</th>\n",
       "      <td>52685</td>\n",
       "      <td>36</td>\n",
       "      <td>Male</td>\n",
       "      <td>13</td>\n",
       "      <td>Healthcare</td>\n",
       "      <td>8029.0</td>\n",
       "      <td>Excellent</td>\n",
       "      <td>High</td>\n",
       "      <td>Average</td>\n",
       "      <td>1</td>\n",
       "      <td>...</td>\n",
       "      <td>Married</td>\n",
       "      <td>1.0</td>\n",
       "      <td>Mid</td>\n",
       "      <td>Large</td>\n",
       "      <td>22.0</td>\n",
       "      <td>No</td>\n",
       "      <td>No</td>\n",
       "      <td>No</td>\n",
       "      <td>Poor</td>\n",
       "      <td>Medium</td>\n",
       "    </tr>\n",
       "    <tr>\n",
       "      <th>1</th>\n",
       "      <td>30585</td>\n",
       "      <td>35</td>\n",
       "      <td>Male</td>\n",
       "      <td>7</td>\n",
       "      <td>Education</td>\n",
       "      <td>4563.0</td>\n",
       "      <td>Good</td>\n",
       "      <td>High</td>\n",
       "      <td>Average</td>\n",
       "      <td>1</td>\n",
       "      <td>...</td>\n",
       "      <td>Single</td>\n",
       "      <td>4.0</td>\n",
       "      <td>Entry</td>\n",
       "      <td>Medium</td>\n",
       "      <td>27.0</td>\n",
       "      <td>No</td>\n",
       "      <td>No</td>\n",
       "      <td>No</td>\n",
       "      <td>Good</td>\n",
       "      <td>High</td>\n",
       "    </tr>\n",
       "    <tr>\n",
       "      <th>2</th>\n",
       "      <td>54656</td>\n",
       "      <td>50</td>\n",
       "      <td>Male</td>\n",
       "      <td>7</td>\n",
       "      <td>Education</td>\n",
       "      <td>5583.0</td>\n",
       "      <td>Fair</td>\n",
       "      <td>High</td>\n",
       "      <td>Average</td>\n",
       "      <td>3</td>\n",
       "      <td>...</td>\n",
       "      <td>Divorced</td>\n",
       "      <td>2.0</td>\n",
       "      <td>Senior</td>\n",
       "      <td>Medium</td>\n",
       "      <td>76.0</td>\n",
       "      <td>No</td>\n",
       "      <td>No</td>\n",
       "      <td>Yes</td>\n",
       "      <td>Good</td>\n",
       "      <td>Low</td>\n",
       "    </tr>\n",
       "    <tr>\n",
       "      <th>3</th>\n",
       "      <td>33442</td>\n",
       "      <td>58</td>\n",
       "      <td>Male</td>\n",
       "      <td>44</td>\n",
       "      <td>Media</td>\n",
       "      <td>5525.0</td>\n",
       "      <td>NaN</td>\n",
       "      <td>NaN</td>\n",
       "      <td>High</td>\n",
       "      <td>0</td>\n",
       "      <td>...</td>\n",
       "      <td>Single</td>\n",
       "      <td>4.0</td>\n",
       "      <td>Entry</td>\n",
       "      <td>Medium</td>\n",
       "      <td>96.0</td>\n",
       "      <td>No</td>\n",
       "      <td>No</td>\n",
       "      <td>No</td>\n",
       "      <td>Poor</td>\n",
       "      <td>Low</td>\n",
       "    </tr>\n",
       "    <tr>\n",
       "      <th>4</th>\n",
       "      <td>15667</td>\n",
       "      <td>39</td>\n",
       "      <td>Male</td>\n",
       "      <td>24</td>\n",
       "      <td>Education</td>\n",
       "      <td>4604.0</td>\n",
       "      <td>Good</td>\n",
       "      <td>High</td>\n",
       "      <td>Average</td>\n",
       "      <td>0</td>\n",
       "      <td>...</td>\n",
       "      <td>Married</td>\n",
       "      <td>6.0</td>\n",
       "      <td>Mid</td>\n",
       "      <td>Large</td>\n",
       "      <td>45.0</td>\n",
       "      <td>Yes</td>\n",
       "      <td>No</td>\n",
       "      <td>No</td>\n",
       "      <td>Good</td>\n",
       "      <td>High</td>\n",
       "    </tr>\n",
       "  </tbody>\n",
       "</table>\n",
       "<p>5 rows × 23 columns</p>\n",
       "</div>"
      ],
      "text/plain": [
       "   response_id  age gender  years_at_company    job_role  monthly_income  \\\n",
       "0        52685   36   Male                13  Healthcare          8029.0   \n",
       "1        30585   35   Male                 7   Education          4563.0   \n",
       "2        54656   50   Male                 7   Education          5583.0   \n",
       "3        33442   58   Male                44       Media          5525.0   \n",
       "4        15667   39   Male                24   Education          4604.0   \n",
       "\n",
       "  work_life_balance job_satisfaction performance_rating  promotions_count  \\\n",
       "0         Excellent             High            Average                 1   \n",
       "1              Good             High            Average                 1   \n",
       "2              Fair             High            Average                 3   \n",
       "3               NaN              NaN               High                 0   \n",
       "4              Good             High            Average                 0   \n",
       "\n",
       "   ... marital_status  dependents_count job_level company_size  \\\n",
       "0  ...        Married               1.0       Mid        Large   \n",
       "1  ...         Single               4.0     Entry       Medium   \n",
       "2  ...       Divorced               2.0    Senior       Medium   \n",
       "3  ...         Single               4.0     Entry       Medium   \n",
       "4  ...        Married               6.0       Mid        Large   \n",
       "\n",
       "   company_tenure remote_work leadership_opportunities  \\\n",
       "0            22.0          No                       No   \n",
       "1            27.0          No                       No   \n",
       "2            76.0          No                       No   \n",
       "3            96.0          No                       No   \n",
       "4            45.0         Yes                       No   \n",
       "\n",
       "   innovation_opportunities company_reputation employee_recognition  \n",
       "0                        No               Poor               Medium  \n",
       "1                        No               Good                 High  \n",
       "2                       Yes               Good                  Low  \n",
       "3                        No               Poor                  Low  \n",
       "4                        No               Good                 High  \n",
       "\n",
       "[5 rows x 23 columns]"
      ]
     },
     "execution_count": 31,
     "metadata": {},
     "output_type": "execute_result"
    }
   ],
   "source": [
    "test_df.head()"
   ]
  },
  {
   "cell_type": "code",
   "execution_count": 32,
   "id": "fac1af9e-a678-40da-8044-5ace2e06e3a0",
   "metadata": {},
   "outputs": [],
   "source": [
    "for columns in test_df.columns :\n",
    "    if test_df[columns].dtype==object:\n",
    "        test_df[columns] = label_encoder.fit_transform(test_df[columns])"
   ]
  },
  {
   "cell_type": "code",
   "execution_count": 33,
   "id": "d0fd3e57-7584-4ddc-8e28-dbfbf6eb99b9",
   "metadata": {},
   "outputs": [
    {
     "data": {
      "text/html": [
       "<div>\n",
       "<style scoped>\n",
       "    .dataframe tbody tr th:only-of-type {\n",
       "        vertical-align: middle;\n",
       "    }\n",
       "\n",
       "    .dataframe tbody tr th {\n",
       "        vertical-align: top;\n",
       "    }\n",
       "\n",
       "    .dataframe thead th {\n",
       "        text-align: right;\n",
       "    }\n",
       "</style>\n",
       "<table border=\"1\" class=\"dataframe\">\n",
       "  <thead>\n",
       "    <tr style=\"text-align: right;\">\n",
       "      <th></th>\n",
       "      <th>response_id</th>\n",
       "      <th>age</th>\n",
       "      <th>gender</th>\n",
       "      <th>years_at_company</th>\n",
       "      <th>job_role</th>\n",
       "      <th>monthly_income</th>\n",
       "      <th>work_life_balance</th>\n",
       "      <th>job_satisfaction</th>\n",
       "      <th>performance_rating</th>\n",
       "      <th>promotions_count</th>\n",
       "      <th>...</th>\n",
       "      <th>marital_status</th>\n",
       "      <th>dependents_count</th>\n",
       "      <th>job_level</th>\n",
       "      <th>company_size</th>\n",
       "      <th>company_tenure</th>\n",
       "      <th>remote_work</th>\n",
       "      <th>leadership_opportunities</th>\n",
       "      <th>innovation_opportunities</th>\n",
       "      <th>company_reputation</th>\n",
       "      <th>employee_recognition</th>\n",
       "    </tr>\n",
       "  </thead>\n",
       "  <tbody>\n",
       "    <tr>\n",
       "      <th>0</th>\n",
       "      <td>52685</td>\n",
       "      <td>36</td>\n",
       "      <td>1</td>\n",
       "      <td>13</td>\n",
       "      <td>2</td>\n",
       "      <td>8029.0</td>\n",
       "      <td>0</td>\n",
       "      <td>0</td>\n",
       "      <td>0</td>\n",
       "      <td>1</td>\n",
       "      <td>...</td>\n",
       "      <td>1</td>\n",
       "      <td>1.0</td>\n",
       "      <td>1</td>\n",
       "      <td>0</td>\n",
       "      <td>22.0</td>\n",
       "      <td>0</td>\n",
       "      <td>0</td>\n",
       "      <td>0</td>\n",
       "      <td>3</td>\n",
       "      <td>2</td>\n",
       "    </tr>\n",
       "    <tr>\n",
       "      <th>1</th>\n",
       "      <td>30585</td>\n",
       "      <td>35</td>\n",
       "      <td>1</td>\n",
       "      <td>7</td>\n",
       "      <td>0</td>\n",
       "      <td>4563.0</td>\n",
       "      <td>2</td>\n",
       "      <td>0</td>\n",
       "      <td>0</td>\n",
       "      <td>1</td>\n",
       "      <td>...</td>\n",
       "      <td>2</td>\n",
       "      <td>4.0</td>\n",
       "      <td>0</td>\n",
       "      <td>1</td>\n",
       "      <td>27.0</td>\n",
       "      <td>0</td>\n",
       "      <td>0</td>\n",
       "      <td>0</td>\n",
       "      <td>2</td>\n",
       "      <td>0</td>\n",
       "    </tr>\n",
       "    <tr>\n",
       "      <th>2</th>\n",
       "      <td>54656</td>\n",
       "      <td>50</td>\n",
       "      <td>1</td>\n",
       "      <td>7</td>\n",
       "      <td>0</td>\n",
       "      <td>5583.0</td>\n",
       "      <td>1</td>\n",
       "      <td>0</td>\n",
       "      <td>0</td>\n",
       "      <td>3</td>\n",
       "      <td>...</td>\n",
       "      <td>0</td>\n",
       "      <td>2.0</td>\n",
       "      <td>2</td>\n",
       "      <td>1</td>\n",
       "      <td>76.0</td>\n",
       "      <td>0</td>\n",
       "      <td>0</td>\n",
       "      <td>1</td>\n",
       "      <td>2</td>\n",
       "      <td>1</td>\n",
       "    </tr>\n",
       "    <tr>\n",
       "      <th>3</th>\n",
       "      <td>33442</td>\n",
       "      <td>58</td>\n",
       "      <td>1</td>\n",
       "      <td>44</td>\n",
       "      <td>3</td>\n",
       "      <td>5525.0</td>\n",
       "      <td>4</td>\n",
       "      <td>4</td>\n",
       "      <td>2</td>\n",
       "      <td>0</td>\n",
       "      <td>...</td>\n",
       "      <td>2</td>\n",
       "      <td>4.0</td>\n",
       "      <td>0</td>\n",
       "      <td>1</td>\n",
       "      <td>96.0</td>\n",
       "      <td>0</td>\n",
       "      <td>0</td>\n",
       "      <td>0</td>\n",
       "      <td>3</td>\n",
       "      <td>1</td>\n",
       "    </tr>\n",
       "    <tr>\n",
       "      <th>4</th>\n",
       "      <td>15667</td>\n",
       "      <td>39</td>\n",
       "      <td>1</td>\n",
       "      <td>24</td>\n",
       "      <td>0</td>\n",
       "      <td>4604.0</td>\n",
       "      <td>2</td>\n",
       "      <td>0</td>\n",
       "      <td>0</td>\n",
       "      <td>0</td>\n",
       "      <td>...</td>\n",
       "      <td>1</td>\n",
       "      <td>6.0</td>\n",
       "      <td>1</td>\n",
       "      <td>0</td>\n",
       "      <td>45.0</td>\n",
       "      <td>1</td>\n",
       "      <td>0</td>\n",
       "      <td>0</td>\n",
       "      <td>2</td>\n",
       "      <td>0</td>\n",
       "    </tr>\n",
       "  </tbody>\n",
       "</table>\n",
       "<p>5 rows × 23 columns</p>\n",
       "</div>"
      ],
      "text/plain": [
       "   response_id  age  gender  years_at_company  job_role  monthly_income  \\\n",
       "0        52685   36       1                13         2          8029.0   \n",
       "1        30585   35       1                 7         0          4563.0   \n",
       "2        54656   50       1                 7         0          5583.0   \n",
       "3        33442   58       1                44         3          5525.0   \n",
       "4        15667   39       1                24         0          4604.0   \n",
       "\n",
       "   work_life_balance  job_satisfaction  performance_rating  promotions_count  \\\n",
       "0                  0                 0                   0                 1   \n",
       "1                  2                 0                   0                 1   \n",
       "2                  1                 0                   0                 3   \n",
       "3                  4                 4                   2                 0   \n",
       "4                  2                 0                   0                 0   \n",
       "\n",
       "   ...  marital_status  dependents_count  job_level  company_size  \\\n",
       "0  ...               1               1.0          1             0   \n",
       "1  ...               2               4.0          0             1   \n",
       "2  ...               0               2.0          2             1   \n",
       "3  ...               2               4.0          0             1   \n",
       "4  ...               1               6.0          1             0   \n",
       "\n",
       "   company_tenure  remote_work  leadership_opportunities  \\\n",
       "0            22.0            0                         0   \n",
       "1            27.0            0                         0   \n",
       "2            76.0            0                         0   \n",
       "3            96.0            0                         0   \n",
       "4            45.0            1                         0   \n",
       "\n",
       "   innovation_opportunities  company_reputation  employee_recognition  \n",
       "0                         0                   3                     2  \n",
       "1                         0                   2                     0  \n",
       "2                         1                   2                     1  \n",
       "3                         0                   3                     1  \n",
       "4                         0                   2                     0  \n",
       "\n",
       "[5 rows x 23 columns]"
      ]
     },
     "execution_count": 33,
     "metadata": {},
     "output_type": "execute_result"
    }
   ],
   "source": [
    "test_df.head()"
   ]
  },
  {
   "cell_type": "code",
   "execution_count": 34,
   "id": "b54096c8-644e-4f3e-aef1-46be47a7b896",
   "metadata": {},
   "outputs": [
    {
     "data": {
      "text/plain": [
       "response_id                 0.000000\n",
       "age                         0.000000\n",
       "gender                      0.000000\n",
       "years_at_company            0.000000\n",
       "job_role                    0.000000\n",
       "monthly_income              0.789488\n",
       "work_life_balance           0.000000\n",
       "job_satisfaction            0.000000\n",
       "performance_rating          0.000000\n",
       "promotions_count            0.000000\n",
       "overtime                    0.000000\n",
       "distance_from_home          0.000000\n",
       "education_level             0.000000\n",
       "marital_status              0.000000\n",
       "dependents_count            2.105300\n",
       "job_level                   0.000000\n",
       "company_size                0.000000\n",
       "company_tenure              1.842138\n",
       "remote_work                 0.000000\n",
       "leadership_opportunities    0.000000\n",
       "innovation_opportunities    0.000000\n",
       "company_reputation          0.000000\n",
       "employee_recognition        0.000000\n",
       "dtype: float64"
      ]
     },
     "execution_count": 34,
     "metadata": {},
     "output_type": "execute_result"
    }
   ],
   "source": [
    "null_value_percentages_test=(test_df.isna().sum()/train_df.shape[0])*100\n",
    "null_value_percentages_test"
   ]
  },
  {
   "cell_type": "code",
   "execution_count": 35,
   "id": "2c3b4d1b-9099-4cc0-b0ee-a32d236188bb",
   "metadata": {},
   "outputs": [],
   "source": [
    "test_df['dependents_count'].fillna(test_df['dependents_count'].mode()[0],inplace=True)"
   ]
  },
  {
   "cell_type": "code",
   "execution_count": 36,
   "id": "98b3560f-149c-4998-9d13-92b93327514b",
   "metadata": {},
   "outputs": [],
   "source": [
    "test_df['company_tenure'].fillna(test_df['company_tenure'].mean(),inplace=True)"
   ]
  },
  {
   "cell_type": "code",
   "execution_count": 37,
   "id": "bc1bef1d-a1b8-4ee0-81a2-9413eddf8446",
   "metadata": {},
   "outputs": [],
   "source": [
    "test_df['monthly_income'].fillna(test_df['monthly_income'].mean(),inplace=True)"
   ]
  },
  {
   "cell_type": "code",
   "execution_count": 38,
   "id": "c72f10a0-9491-4869-8a70-84693acc18f2",
   "metadata": {},
   "outputs": [
    {
     "data": {
      "text/plain": [
       "response_id                 0.0\n",
       "age                         0.0\n",
       "gender                      0.0\n",
       "years_at_company            0.0\n",
       "job_role                    0.0\n",
       "monthly_income              0.0\n",
       "work_life_balance           0.0\n",
       "job_satisfaction            0.0\n",
       "performance_rating          0.0\n",
       "promotions_count            0.0\n",
       "overtime                    0.0\n",
       "distance_from_home          0.0\n",
       "education_level             0.0\n",
       "marital_status              0.0\n",
       "dependents_count            0.0\n",
       "job_level                   0.0\n",
       "company_size                0.0\n",
       "company_tenure              0.0\n",
       "remote_work                 0.0\n",
       "leadership_opportunities    0.0\n",
       "innovation_opportunities    0.0\n",
       "company_reputation          0.0\n",
       "employee_recognition        0.0\n",
       "dtype: float64"
      ]
     },
     "execution_count": 38,
     "metadata": {},
     "output_type": "execute_result"
    }
   ],
   "source": [
    "null_value_percentages_test=(test_df.isna().sum()/train_df.shape[0])*100\n",
    "null_value_percentages_test"
   ]
  },
  {
   "cell_type": "code",
   "execution_count": 39,
   "id": "9aa042a0-cd8d-4856-928b-585b596ffce1",
   "metadata": {},
   "outputs": [],
   "source": [
    "# from sklearn.ensemble import RandomForestClassifier \n",
    "# from sklearn.model_selection import GridSearchCV,RandomizedSearchCV\n",
    "# from xgboost import XGBClassifier\n"
   ]
  },
  {
   "cell_type": "code",
   "execution_count": 40,
   "id": "823aa1a2-c9b7-4bd8-af5a-a24499020990",
   "metadata": {},
   "outputs": [],
   "source": [
    "# model = RandomForestClassifier(random_state=42)\n",
    "# model_xg = XGBClassifier( random_state=42)"
   ]
  },
  {
   "cell_type": "code",
   "execution_count": 41,
   "id": "992ff04a-70f0-4b0a-aee4-71d158e81764",
   "metadata": {},
   "outputs": [],
   "source": [
    "# # param_grid = {\n",
    "# #     'n_estimators': [100,200],  # Number of trees in the forest\n",
    "# #     'max_depth': [5,10],  # Maximum depth of the tree\n",
    "# #     'min_samples_split': [2, 4,8],  # Minimum number of samples required to split a node\n",
    "# #     'min_samples_leaf': [2, 4],  # Minimum number of samples required to be at a leaf node\n",
    "# #     'max_features': ['sqrt', 'log2']  # Number of features to consider for the best split\n",
    "# # }\n",
    "# param_dist = {\n",
    "#     'n_estimators': [100,150,200],\n",
    "#     'max_depth': [5, 10, 15],\n",
    "#     'min_samples_split': [2, 5, 10],\n",
    "#     'min_samples_leaf': [1, 2, 4],\n",
    "#     'max_features': ['sqrt', 'log2'],\n",
    "#     'criterion' : ['gini']\n",
    "# }\n",
    "# # param_grid_xg={\n",
    "# #     'n_estimators': [50, 100, 150],\n",
    "# #     'learning_rate': [0.01, 0.1, 0.2],\n",
    "# #     'max_depth': [3, 4, 5],\n",
    "# #     'subsample': [0.8, 1.0],\n",
    "# #     'colsample_bytree': [0.8, 1.0]\n",
    "# # } \n",
    "# #74.405\n",
    "# param_grid_xg = {\n",
    "#     'n_estimators': [100, 200],\n",
    "#     'learning_rate': [0.05, 0.1],\n",
    "#     'max_depth': [3, 5, 7],\n",
    "#     'subsample': [0.8, 1.0],\n",
    "#     'colsample_bytree': [0.8, 1.0],\n",
    "#     'gamma': [0, 0.1],\n",
    "#     'min_child_weight': [1, 3],\n",
    "#     'reg_alpha': [0, 0.1],\n",
    "#     'reg_lambda': [1, 2]\n",
    "# }\n",
    "# #74.494\n"
   ]
  },
  {
   "cell_type": "code",
   "execution_count": 42,
   "id": "29fdcace-0f8a-4d17-b2d9-feb4ffacc34c",
   "metadata": {},
   "outputs": [],
   "source": [
    "# grid_search = GridSearchCV(\n",
    "#     estimator=model_xg, \n",
    "#     param_grid=param_grid_xg, \n",
    "#     scoring='f1',  # or another scoring metric you prefer\n",
    "#     cv=5,                # Number of cross-validation folds\n",
    "#     verbose=2,           # Level of verbosity\n",
    "#     n_jobs=-1            # Use all available cores\n",
    "# )\n"
   ]
  },
  {
   "cell_type": "code",
   "execution_count": 43,
   "id": "84608d25-c5f8-404d-a416-8faadd9c8d07",
   "metadata": {},
   "outputs": [],
   "source": [
    "# grid_search.fit(train_df.drop(['exit_status'],axis=1), train_df['exit_status'])\n"
   ]
  },
  {
   "cell_type": "code",
   "execution_count": 44,
   "id": "86d17591-0fb0-4c29-bc6f-56631c3613cc",
   "metadata": {},
   "outputs": [],
   "source": [
    "x = test_df['response_id']\n",
    "test_df.drop(['leadership_opportunities','employee_recognition','job_role'],axis=1,inplace=True)"
   ]
  },
  {
   "cell_type": "code",
   "execution_count": 45,
   "id": "7ebb8f28-344c-4e13-aedf-bdf9d4f28e14",
   "metadata": {},
   "outputs": [],
   "source": [
    "# final = grid_search.predict(test_df)"
   ]
  },
  {
   "cell_type": "code",
   "execution_count": 46,
   "id": "1a66e6d4-ed54-4944-ae6d-45521817ac73",
   "metadata": {},
   "outputs": [],
   "source": [
    "# predictions = [\"Stayed\" if pred == 1 else \"Left\" for pred in final]"
   ]
  },
  {
   "cell_type": "code",
   "execution_count": 47,
   "id": "89edc93a-9a9c-42f5-b327-70e258fc1071",
   "metadata": {},
   "outputs": [],
   "source": [
    "# output_df = pd.DataFrame({\n",
    "#     'response_id': x,\n",
    "#     'Predictions': predictions\n",
    "# })"
   ]
  },
  {
   "cell_type": "code",
   "execution_count": 48,
   "id": "62ebf881-6bb6-43e5-857c-0c1fc536cc0e",
   "metadata": {},
   "outputs": [],
   "source": [
    "# output_df.to_csv('combined_output.csv', index=False)"
   ]
  },
  {
   "cell_type": "code",
   "execution_count": 49,
   "id": "b85f95c8-c4e2-4e9b-a3b4-5ae961b695b1",
   "metadata": {},
   "outputs": [],
   "source": [
    "train_df.to_csv('../train_test_files/processed_train.csv',index=False)"
   ]
  },
  {
   "cell_type": "code",
   "execution_count": 50,
   "id": "9ccd7784-6c66-4a14-a071-968bc64af0ba",
   "metadata": {},
   "outputs": [],
   "source": [
    "test_df.to_csv('../train_test_files/processed_test.csv',index=False)"
   ]
  },
  {
   "cell_type": "code",
   "execution_count": null,
   "id": "fbda60f1-0fe9-4172-990a-d950681348ea",
   "metadata": {},
   "outputs": [],
   "source": []
  },
  {
   "cell_type": "code",
   "execution_count": null,
   "id": "77863d7c-654f-4c5c-98b7-cd7198683c1f",
   "metadata": {},
   "outputs": [],
   "source": []
  }
 ],
 "metadata": {
  "kernelspec": {
   "display_name": "Python 3 (ipykernel)",
   "language": "python",
   "name": "python3"
  },
  "language_info": {
   "codemirror_mode": {
    "name": "ipython",
    "version": 3
   },
   "file_extension": ".py",
   "mimetype": "text/x-python",
   "name": "python",
   "nbconvert_exporter": "python",
   "pygments_lexer": "ipython3",
   "version": "3.10.12"
  }
 },
 "nbformat": 4,
 "nbformat_minor": 5
}
